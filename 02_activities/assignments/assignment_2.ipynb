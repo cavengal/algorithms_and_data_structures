{
 "cells": [
  {
   "cell_type": "markdown",
   "metadata": {},
   "source": [
    "# Practice Interview\n",
    "\n",
    "## Objective\n",
    "\n",
    "_*The partner assignment aims to provide participants with the opportunity to practice coding in an interview context. You will analyze your partner's Assignment 1. Moreover, code reviews are common practice in a software development team. This assignment should give you a taste of the code review process.*_\n",
    "\n",
    "## Group Size\n",
    "\n",
    "Each group should have 2 people. You will be assigned a partner\n",
    "\n",
    "## Part 1:\n",
    "\n",
    "You and your partner must share each other's Assignment 1 submission."
   ]
  },
  {
   "cell_type": "markdown",
   "metadata": {},
   "source": [
    "\n",
    "## Part 2:\n",
    "\n",
    "Create a Jupyter Notebook, create 6 of the following headings, and complete the following for your partner's assignment 1:\n",
    "\n",
    "-   Paraphrase the problem in your own words.\n"
   ]
  },
  {
   "cell_type": "markdown",
   "metadata": {},
   "source": [
    "Answer: <br>\n",
    "Question 1 asks that given a binary tree and its root as inputs to check if the provided tree contains any duplicate values. \n",
    "If a duplicate is found, return the value of the first duplicate that is closest to the root of the tree. If there are multiple duplicates, return the first one that is encountered and If no duplicates are found, return -1. This description and the examples provided are consistent with peforming a BREADTH-FIRST SEARCH (level-order traversal) "
   ]
  },
  {
   "cell_type": "markdown",
   "metadata": {},
   "source": [
    "\n",
    "-   Create 1 new example that demonstrates you understand the problem. Trace/walkthrough 1 example that your partner made and explain it.\n"
   ]
  },
  {
   "cell_type": "markdown",
   "metadata": {},
   "source": [
    "Answer: <br>\n",
    "\n",
    "**MY EXAMPLE:**\n",
    "\n",
    "INPUT: root = [5, 3, 5, 2, 4, 7, 3]<br>\n",
    "OUTPUT: 5\n",
    "\n",
    "\n",
    "**PARTNER EXAMPLE WALKTROUGH:**\n",
    "\n",
    "INPUT: root = [1, 10, 2, 3, 10, 12, 12]<br>\n",
    "OUTPUT: 10<br>\n",
    "TREE:<br><span style=\"margin-right: 20px;\"></span> 1 <br> \n",
    "       / <span style=\"margin-right: 30px;\"></span>  \\ <br>\n",
    "     10<span style=\"margin-right: 20px;\"></span>2 <br> \n",
    "     / \\ <span style=\"margin-right: 20px;\"></span>   /   \\ <br> \n",
    "    3  10   12   12 <br>     \n",
    "WALKTHROUGH:<br>\n",
    "1. Start BFS search at root node which has value of 1. Unique Seen Values at this point: 1. Move to next level.\n",
    "2. Explore next nodes 10 and 2. Unique Seen Values at this point: 1, 10, 2. Move to next level.\n",
    "3. Explore next nodes 3, 10, 12, 12 and 2. The first node 3 is new, so is added to unique seen values. \n",
    "4. The next node 10 is already in  Unique seen values, indicating a duplicate. \n",
    "5. Since the first duplicate value encountered during the traversal is 10, the output is 10.\n"
   ]
  },
  {
   "cell_type": "markdown",
   "metadata": {},
   "source": [
    "\n",
    "-   Copy the solution your partner wrote. \n"
   ]
  },
  {
   "cell_type": "code",
   "execution_count": null,
   "metadata": {},
   "outputs": [],
   "source": [
    "from collections import deque\n",
    "\n",
    "class TreeNode(object):\n",
    "    def __init__(self, val=0, left=None, right=None):\n",
    "        self.val = val\n",
    "        self.left = left\n",
    "        self.right = right\n",
    "\n",
    "def is_duplicate(root: TreeNode) -> int:\n",
    "    if not root:\n",
    "        return -1\n",
    "    \n",
    "    seen = set()\n",
    "    queue = deque([root])\n",
    "    \n",
    "    while queue:\n",
    "        node = queue.popleft()\n",
    "        \n",
    "        if node.val in seen:\n",
    "            return node.val\n",
    "        seen.add(node.val)\n",
    "        \n",
    "        if node.left:\n",
    "            queue.append(node.left)\n",
    "        if node.right:\n",
    "            queue.append(node.right)\n",
    "    \n",
    "    return -1"
   ]
  },
  {
   "cell_type": "markdown",
   "metadata": {},
   "source": [
    "\n",
    "-   Explain why their solution works in your own words.\n"
   ]
  },
  {
   "cell_type": "markdown",
   "metadata": {},
   "source": [
    "Answer: <br>\n",
    "\n",
    "This solution works because it uses a breadth-first search (BFS) to traverse the binary tree level-by-level, starting from the root. It uses a function called 'is_duplicate' to perform it.\n",
    "- First the funtion checks if the tree is empty, in which case it returns -1\n",
    "- If the  tree is NOT empty then it initializes a set calle 'seen' which is  used to keep track of the values encountered so far.\n",
    "- A queue is initialized with the root node to facilitate BFS.\n",
    "- BFS Traversal in 'while' statement: The algorithm processes each node in the queue as follows:\n",
    "    - Dequeues a node and checks if its value is already in the seen set.\n",
    "    - If the value is found in seen, it returns the value as the first duplicate.\n",
    "    - If not, it adds the value to seen and enqueues the left and right children of the node (if they exist) for further processing.\n",
    "    - If the queue is empty and no duplicates are found, it returns -1.\n",
    "\n",
    "This algorithm ensures that the closest duplicate to the root is found first"
   ]
  },
  {
   "cell_type": "markdown",
   "metadata": {},
   "source": [
    "\n",
    "-   Explain the problem’s time and space complexity in your own words.\n"
   ]
  },
  {
   "cell_type": "markdown",
   "metadata": {},
   "source": [
    "Answer: <br><br>\n",
    "Time Complexity: <br>\n",
    "O(n): The solution traverses each node of the tree exactly once using BFS, where n is the number of nodes in the tree.\n",
    "\n",
    "Space Complexity: <br>\n",
    "O(n): The space complexity is O(n) due to the storage required for the seen set and the queue. In the worst case, both the set and queue could contain up to n nodes if all nodes are unique."
   ]
  },
  {
   "cell_type": "markdown",
   "metadata": {},
   "source": [
    "\n",
    "-   Critique your partner's solution, including explanation, and if there is anything that should be adjusted.\n"
   ]
  },
  {
   "cell_type": "markdown",
   "metadata": {},
   "source": [
    "Answer: <br><br>\n",
    "The solution is effective and meets the problem requirements. From my perspective no major optimization is required as the algorithm is already efficient with O(n) for both time and space complexity. If I had to pick on anything I'd say that the solution is clear and well-structured, but it may benefit from adding comments in the code describing the major steps especially when working in a collaborative environment."
   ]
  },
  {
   "cell_type": "markdown",
   "metadata": {},
   "source": [
    "\n",
    "## Part 3:\n",
    "\n",
    "Please write a 200 word reflection documenting your process from assignment 1, and your presentation and review experience with your partner at the bottom of the Jupyter Notebook under a new heading \"Reflection.\" Again, export this Notebook as pdf.\n"
   ]
  },
  {
   "cell_type": "markdown",
   "metadata": {},
   "source": [
    "### Reflection"
   ]
  },
  {
   "cell_type": "markdown",
   "metadata": {},
   "source": [
    "In assignment 1, I used Depth-First Search (DFS) to find all paths from the root to the leaves in a binary tree. I started by writing a helper function that explores the tree from the root. This function kept track of the current path and updated it as it moved to the left and right children. When it reached a leaf, it saved the path to the final list. This process helped me better understand how DFS works and how to use recursion effectively to explore tree structures.\n",
    "\n",
    "The above was complemented by reviewing my classmate's assignment, which was an equally valuable learning experience. The task was to find the closest duplicate value in a binary tree, and the solution used breadth-first search (BFS) to do this. BFS processed each level of the tree, ensuring the closest duplicate was found first. The solution also correctly handled an empty tree by returning -1. The time and space used were both O(n), which is efficient for this type of problem. Overall, the assignment showed a clear understanding of tree traversal and problem-solving, and it was a good example of how to efficiently solve such problems and address common edge cases."
   ]
  },
  {
   "cell_type": "markdown",
   "metadata": {},
   "source": [
    "\n",
    "## Evaluation Criteria\n",
    "\n",
    "We are looking for the similar points as Assignment 1\n",
    "\n",
    "-   Problem is accurately stated\n",
    "\n",
    "-   New example is correct and easily understandable\n",
    "\n",
    "-   Correctness, time, and space complexity of the coding solution\n",
    "\n",
    "-   Clarity in explaining why the solution works, its time and space complexity\n",
    "\n",
    "-   Quality of critique of your partner's assignment, if necessary\n"
   ]
  },
  {
   "cell_type": "markdown",
   "metadata": {},
   "source": [
    "## Submission Information\n",
    "\n",
    "🚨 **Please review our [Assignment Submission Guide](https://github.com/UofT-DSI/onboarding/blob/main/onboarding_documents/submissions.md)** 🚨 for detailed instructions on how to format, branch, and submit your work. Following these guidelines is crucial for your submissions to be evaluated correctly.\n",
    "\n",
    "### Submission Parameters:\n",
    "* Submission Due Date: `HH:MM AM/PM - DD/MM/YYYY`\n",
    "* The branch name for your repo should be: `assignment-2`\n",
    "* What to submit for this assignment:\n",
    "    * This Jupyter Notebook (assignment_2.ipynb) should be populated and should be the only change in your pull request.\n",
    "* What the pull request link should look like for this assignment: `https://github.com/<your_github_username>/algorithms_and_data_structures/pull/<pr_id>`\n",
    "    * Open a private window in your browser. Copy and paste the link to your pull request into the address bar. Make sure you can see your pull request properly. This helps the technical facilitator and learning support staff review your submission easily.\n",
    "\n",
    "Checklist:\n",
    "- [ ] Created a branch with the correct naming convention.\n",
    "- [ ] Ensured that the repository is public.\n",
    "- [ ] Reviewed the PR description guidelines and adhered to them.\n",
    "- [ ] Verify that the link is accessible in a private browser window.\n",
    "\n",
    "If you encounter any difficulties or have questions, please don't hesitate to reach out to our team via our Slack at `#cohort-3-help`. Our Technical Facilitators and Learning Support staff are here to help you navigate any challenges.\n"
   ]
  }
 ],
 "metadata": {
  "language_info": {
   "name": "python"
  }
 },
 "nbformat": 4,
 "nbformat_minor": 2
}
