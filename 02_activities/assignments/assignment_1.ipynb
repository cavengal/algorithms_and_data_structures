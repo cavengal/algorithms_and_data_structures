{
 "cells": [
  {
   "cell_type": "markdown",
   "metadata": {},
   "source": [
    "# Coding Problems\n",
    "\n",
    "## Objective\n",
    "\n",
    "This assignment aims to demonstrate how to study a data structures or algorithms question in depth to prepare for an industry coding interview. Leetcode is a popular coding practice site that many use to practice for technical interviews. Like behavioral interviews, it's important to practice and keep your skills sharp.\n",
    "\n",
    "## Group Size\n",
    "\n",
    "Please complete this individually.\n",
    "\n",
    "## Part 1:\n",
    "\n",
    "_*You will be assigned one of three problems based of your first name. Execute the code below, and that will tell you your assigned problem. Include the output as part of your submission (do not clear the output). The problems are based-off problems from Leetcode.*_\n"
   ]
  },
  {
   "cell_type": "code",
   "execution_count": 2,
   "metadata": {},
   "outputs": [
    {
     "name": "stdout",
     "output_type": "stream",
     "text": [
      "2\n"
     ]
    }
   ],
   "source": [
    "print((hash('Carlos') % 3) + 1)"
   ]
  },
  {
   "cell_type": "markdown",
   "metadata": {},
   "source": [
    "<details>\n",
    "  <summary>Question 1</summary>\n",
    "\n",
    "  # Question One: Check Duplicates in Tree\n",
    "\n",
    "  Given the `root` of a binary tree, check whether it is contains a duplicate value. If a duplicate exists, return the duplicate value. If there are multiple duplicates, return the one with the closest distance to the root. If no duplicate exists, return -1.\n",
    "\n",
    "  ## Examples\n",
    "\n",
    "  ### Example 1\n",
    "\n",
    "  ![](./images/q1_ex1.png)\n",
    "\n",
    "  Input: `root = [1, 2, 2, 3, 5, 6, 7]` *What traversal method is this?*\n",
    "\n",
    "  Output: 2\n",
    "\n",
    "  ### Example 2\n",
    "\n",
    "  ![](./images/q1_ex2.png)\n",
    "\n",
    "  Input: `root = [1, 10, 2, 3, 10, 12, 12]`\n",
    "\n",
    "  Output: 10\n",
    "\n",
    "  ### Example 3\n",
    "\n",
    "  ![](./images/q1_ex3.png)\n",
    "\n",
    "  Input: `root = [10, 9, 8, 7]`\n",
    "\n",
    "  Output: -1\n",
    "\n",
    "</details>\n",
    "\n",
    "#### Starter Code for Question 1"
   ]
  },
  {
   "cell_type": "code",
   "execution_count": null,
   "metadata": {},
   "outputs": [],
   "source": [
    "# Definition for a binary tree node.\n",
    "# class TreeNode(object):\n",
    "#     def __init__(self, val = 0, left = None, right = None):\n",
    "#         self.val = val\n",
    "#         self.left = left\n",
    "#         self.right = right\n",
    "def is_duplicate(root: TreeNode) -> int:\n",
    "  # TODO"
   ]
  },
  {
   "cell_type": "markdown",
   "metadata": {},
   "source": [
    "<details>\n",
    "  <summary>Question 2</summary>\n",
    "\n",
    "  # Question Two: Path to Leaves\n",
    "\n",
    "  Given the `root` of a binary tree, return all root to leaf paths in any order.\n",
    "\n",
    "  ## Examples\n",
    "\n",
    "  ### Example 1\n",
    "\n",
    "  ![](./images/q1_ex1.png)\n",
    "\n",
    "  Input: `root = [1, 2, 2, 3, 5, 6, 7]` *What traversal method is this?*\n",
    "\n",
    "  Output: [[1, 2, 3], [1, 2, 5], [1, 2, 6], [1, 2, 7]]\n",
    "\n",
    "  ### Example 2\n",
    "\n",
    "  ![](./images/q1_ex3.png)\n",
    "\n",
    "  Input: `root = [10, 9, 7, 8]`\n",
    "\n",
    "  Output: [[10, 7], [10, 9, 8]]\n",
    "\n",
    "</details>\n",
    "\n",
    "#### Starter Code for Question 2"
   ]
  },
  {
   "cell_type": "code",
   "execution_count": null,
   "metadata": {},
   "outputs": [],
   "source": [
    "# Definition for a binary tree node.\n",
    "# class TreeNode(object):\n",
    "#     def __init__(self, val = 0, left = None, right = None):\n",
    "#         self.val = val\n",
    "#         self.left = left\n",
    "#         self.right = right\n",
    "def bt_path(root: TreeNode) -> List[List[int]]:\n",
    "  # TODO"
   ]
  },
  {
   "cell_type": "markdown",
   "metadata": {},
   "source": [
    "<details>\n",
    "  <summary>Question 3</summary>\n",
    "\n",
    "  # Question Three: Missing Number in Range\n",
    " \n",
    "  You are given a list containing `n` integers in the range `[0, n]`. Return a list of numbers that are missing from the range `[0, n]` of the array. If there is no missing number, return -1. Note, all the integers in the list may not be unique.\n",
    "  \n",
    "  ## Examples\n",
    "\n",
    "  ### Example 1\n",
    "\n",
    "  Input: `lst = [0, 2]`\n",
    "\n",
    "  Output: [1]\n",
    "\n",
    "  ### Example 2\n",
    "\n",
    "  Input: `lst = [5, 0, 1]`\n",
    "\n",
    "  Output: [2, 3, 4]\n",
    "\n",
    "  ### Example 3\n",
    "\n",
    "  Input: `lst = [6, 8, 2, 3, 5, 7, 0, 1, 10]`\n",
    "\n",
    "  Output: [4, 9]\n",
    "\n",
    "</details>\n",
    "\n",
    "#### Starter Code for Question 3\n"
   ]
  },
  {
   "cell_type": "code",
   "execution_count": null,
   "metadata": {},
   "outputs": [],
   "source": [
    "def missing_num(nums: List) -> int:\n",
    "  # TODO"
   ]
  },
  {
   "cell_type": "markdown",
   "metadata": {},
   "source": [
    "\n",
    "## Part 2:\n",
    "\n",
    "-   Paraphrase the problem in your own words\n"
   ]
  },
  {
   "cell_type": "markdown",
   "metadata": {},
   "source": [
    "Answer: The question asks us to perform a Depth_First Search in Preorder Transversal Method for any given binary input Tree. This is, given the root of a binary tree, the goal is to find and return all possible paths from the root node to the leaf nodes. The examples indicate that we shold visit the root node first, then recursively visit the left subtree, and finally the right subtree, which is by definition the Preorder Transversal Search Method."
   ]
  },
  {
   "cell_type": "markdown",
   "metadata": {},
   "source": [
    "- In this .ipynb file, there are examples that illustrate how the code should work (the examples provided above). Create 2 new examples for the question you have been assigned, that demonstrate you understand the problem. For question 1 and 2, you don't need to create the tree demonstration, just the input and output.\n"
   ]
  },
  {
   "cell_type": "markdown",
   "metadata": {},
   "source": [
    "Answer:\n",
    "\n",
    "EXAMPLE 1: <br>\n",
    "Input: root = [8, 3, 10, 1, 6, 9, 12] <br>\n",
    "Output: [[8, 3, 1], [8, 3, 6], [8, 10, 9], [8, 10, 12]]\n",
    "\n",
    "EXAMPLE 2: <br>\n",
    "Input: root = [5, 3, 7, 2, 4, 6, 8] <br>\n",
    "Output: [[5, 3, 2], [5, 3, 4], [5, 7, 6], [5, 7, 8]]\n"
   ]
  },
  {
   "cell_type": "markdown",
   "metadata": {},
   "source": [
    "\n",
    "-   Code the solution to your assigned problem in Python (code chunk). Try to find the best time and space complexity solution!\n"
   ]
  },
  {
   "cell_type": "code",
   "execution_count": 1,
   "metadata": {},
   "outputs": [],
   "source": [
    "from typing import List\n",
    "\n",
    "# Definition for a binary tree node.\n",
    "class TreeNode(object):\n",
    "     def __init__(self, val = 0, left = None, right = None):\n",
    "         self.val = val\n",
    "         self.left = left\n",
    "         self.right = right\n",
    "# Defining the Main function (named pathfunction). It initializes the Depth-First Search and returns the result.  \n",
    "def path_function(root: TreeNode) -> List[List[int]]:\n",
    "    #Defining Helpe function for Recursive DFS: It tracks the current path and adds it to the result when a leaf node is reached.\n",
    "    def dfs(node, path, paths):\n",
    "        #Base Case\n",
    "        if not node:\n",
    "            return\n",
    "        # Add the current node to the path\n",
    "        path.append(node.val)\n",
    "        # If it's a leaf node, add the path to the result\n",
    "        if not node.left and not node.right:\n",
    "            paths.append(list(path))\n",
    "        else:\n",
    "            # Continue DFS on left and right child\n",
    "            dfs(node.left, path, paths)\n",
    "            dfs(node.right, path, paths)\n",
    "        # Backtrack to explore other paths\n",
    "        path.pop()\n",
    "\n",
    "    paths = []\n",
    "    dfs(root, [], paths)\n",
    "    return paths"
   ]
  },
  {
   "cell_type": "markdown",
   "metadata": {},
   "source": [
    "\n",
    "-   Explain why your solution works\n"
   ]
  },
  {
   "cell_type": "markdown",
   "metadata": {},
   "source": [
    "Answer: \n",
    "\n",
    "The solution works by using a recursive DFS approach to traverse all paths from the root to the leaves, while keeping track of each path and ensuring that all possible paths are explored by fulfilling the following:\n",
    "\n",
    "- The DFS Traversal helper funnction does Depth-First Search (DFS) exploring the tree by going as deep as possible along each branch before backtracking. ensuring that every potential path from the root to the leaves is explored. This function is called recursively for both the left and right children of the current node. This recursion continues until all paths from the root to all leaves are explored.\n",
    "- It Accumulates Paths as the DFS function traverses the tree, maintaining a path list that records the nodes along the current route from the root to the current node and updating the list as the function visits each node.\n",
    "- It detects Leaf Nodes, that is, when the function encounters a node that has no left or right children, it recognizes that a complete path from the root to this leaf has been found. The current path is then copied and added to the paths list, collecting all such paths as described in the previous point.\n",
    "- After exploring the current node and its children, the function backtracks by removing the last node from the path list, allowing the function to explore other branches of the tree and by doing so ensuring that all potential paths explored."
   ]
  },
  {
   "cell_type": "markdown",
   "metadata": {},
   "source": [
    "\n",
    "-   Explain the problem’s time and space complexity\n"
   ]
  },
  {
   "cell_type": "markdown",
   "metadata": {},
   "source": [
    "Time Complexity: 𝑂(n^2)\n",
    "- Traversing: Since The DFS function visits each node exactly once the complexity of traversing is O(n)\n",
    "- Path Collection: At each leaf node, a path is recorded and added to the paths list. In the worst case, the number of leaf nodes could be O(n) and each path could have a length up to O(h) --> (h is the height of the tree). h in the worst case for a completely skewed tree is equal to n, making the time complexity O(n^2)\n",
    "- The overall time complexity of the problem is determined by the complexity of path collection which in the worst case is O(n^2)\n",
    "\n",
    "\n",
    "Space Complexity: 𝑂(n^2)\n",
    "- Recursion Stack Space: The recursive DFS function uses a stack to keep track of the nodes along the current path. The maximum depth of the recursion stack is equal to the height of the tree h which in the worst case is equal to n in a skewed tree, making space complexity of the recurion equal to O(n)\n",
    "In the worst case, the height \n",
    "- Path Storage Space: The paths list stores all paths from the root to the leaves. In the worst case, there could be O(n)leaf nodes, and each path could be of length 𝑂(h), making the space required for storing paths is O(n.h). As discussed above in the worst case h=n so the space complexity for storing paths is 𝑂(n^2)\n",
    "- The overall tspace complexity of the problem is determined by the complexity of path storagewhich in the worst case is O(n^2)\n",
    "\n"
   ]
  },
  {
   "cell_type": "markdown",
   "metadata": {},
   "source": [
    "\n",
    "-   Explain the thinking to an alternative solution (no coding required, but a classmate reading this should be able to code it up based off your text)\n"
   ]
  },
  {
   "cell_type": "markdown",
   "metadata": {},
   "source": [
    "Answer: \n",
    "\n",
    "Alternative Solution: Iterative Approach Using a Stack instead of using recursion for Depth-First Search (DFS). This iterative approach using a stack will yield the same result as a preorder DFS traversal, but avoids recursion.\n",
    "\n",
    "Steps:\n",
    "1. Create an empty list, paths, to store the resulting paths from the root to the leaves. Initialize a stack that will be used for the traversal. Each element in the stack will be a tuple containing a node and the path from the root to that node. Start with the root node and an empty path.\n",
    "\n",
    "2. Push a tuple (root, []) onto the stack. This tuple represents the root node and an empty path list.\n",
    "\n",
    "3. Stack Processing: While the stack is not empty: A. Pop the top element from the stack. This gives us the current node and the path leading to it. B. Append the current node’s value to the path.\n",
    "\n",
    "4. Check for Leaf Nodes: If the current node is a leaf (it has no left or right children), append the current path (which now includes the leaf node) to the paths list.\n",
    "\n",
    "5. Push Children onto the Stack: If the current node has a right child, push a tuple containing the right child and the updated path onto the stack.\n",
    "If the current node has a left child, push a tuple containing the left child and the updated path onto the stack.\n",
    "\n",
    "6. Continue the process until the stack is empty. Each time we encounter a leaf node, we’ll add a complete root-to-leaf path to the paths list."
   ]
  },
  {
   "cell_type": "markdown",
   "metadata": {},
   "source": [
    "## Evaluation Criteria\n",
    "\n",
    "-   Problem is accurately stated\n",
    "\n",
    "-   Two examples are correct and easily understandable\n",
    "\n",
    "-   Correctness, time, and space complexity of the coding solution\n",
    "\n",
    "-   Clarity in explaining why the solution works, its time and space complexity\n",
    "\n",
    "-   Clarity in the proposal to the alternative solution"
   ]
  },
  {
   "cell_type": "markdown",
   "metadata": {},
   "source": [
    "## Submission Information\n",
    "\n",
    "🚨 **Please review our [Assignment Submission Guide](https://github.com/UofT-DSI/onboarding/blob/main/onboarding_documents/submissions.md)** 🚨 for detailed instructions on how to format, branch, and submit your work. Following these guidelines is crucial for your submissions to be evaluated correctly.\n",
    "\n",
    "### Submission Parameters:\n",
    "* Submission Due Date: `HH:MM AM/PM - DD/MM/YYYY`\n",
    "* The branch name for your repo should be: `assignment-1`\n",
    "* What to submit for this assignment:\n",
    "    * This Jupyter Notebook (assignment_1.ipynb) should be populated and should be the only change in your pull request.\n",
    "* What the pull request link should look like for this assignment: `https://github.com/<your_github_username>/algorithms_and_data_structures/pull/<pr_id>`\n",
    "    * Open a private window in your browser. Copy and paste the link to your pull request into the address bar. Make sure you can see your pull request properly. This helps the technical facilitator and learning support staff review your submission easily.\n",
    "\n",
    "Checklist:\n",
    "- [X] Create a branch called `assignment-1`.\n",
    "- [X] Ensure that the repository is public.\n",
    "- [X] Review [the PR description guidelines](https://github.com/UofT-DSI/onboarding/blob/main/onboarding_documents/submissions.md#guidelines-for-pull-request-descriptions) and adhere to them.\n",
    "- [X] Verify that the link is accessible in a private browser window.\n",
    "\n",
    "If you encounter any difficulties or have questions, please don't hesitate to reach out to our team via our Slack at `#cohort-3-help`. Our Technical Facilitators and Learning Support staff are here to help you navigate any challenges."
   ]
  }
 ],
 "metadata": {
  "kernelspec": {
   "display_name": "Python 3",
   "language": "python",
   "name": "python3"
  },
  "language_info": {
   "codemirror_mode": {
    "name": "ipython",
    "version": 3
   },
   "file_extension": ".py",
   "mimetype": "text/x-python",
   "name": "python",
   "nbconvert_exporter": "python",
   "pygments_lexer": "ipython3",
   "version": "3.9.15"
  }
 },
 "nbformat": 4,
 "nbformat_minor": 2
}
